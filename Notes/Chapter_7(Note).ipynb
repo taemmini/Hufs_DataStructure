{
 "cells": [
  {
   "cell_type": "markdown",
   "metadata": {},
   "source": [
    "# 탐색과 정렬"
   ]
  },
  {
   "cell_type": "code",
   "execution_count": 8,
   "metadata": {},
   "outputs": [
    {
     "name": "stdout",
     "output_type": "stream",
     "text": [
      "2\n"
     ]
    }
   ],
   "source": [
    "def sequential_search (A,key, low, high):\n",
    "    length = len(A)\n",
    "    for i in range(0, length):\n",
    "        if A[i].key == key:\n",
    "            return i\n",
    "    return None\n",
    "\n",
    "v = [17, 92, 18, 33, 58, 7, 33, 42]\n",
    "print(sequential_search(v, 18))\n",
    "\n",
    "def search_list(a, x):\n",
    "    n = len(a)\n",
    "    for i in range(0, n):\n",
    "    \tif x == a[i]:\n",
    "        \treturn i\n",
    "    return -1\n",
    "    \n",
    "v = [17, 92, 18, 33, 58, 7, 33, 42]\n",
    "print(search_list(v, 18)) # 2"
   ]
  },
  {
   "cell_type": "code",
   "execution_count": 2,
   "metadata": {},
   "outputs": [
    {
     "name": "stdout",
     "output_type": "stream",
     "text": [
      "Step 1 = [3, 8, 4, 9, 7]\n",
      "Step 2 = [3, 4, 8, 9, 7]\n",
      "Step 3 = [3, 4, 8, 9, 7]\n",
      "Step 4 = [3, 4, 7, 8, 9]\n"
     ]
    }
   ],
   "source": [
    "# 탐색 필요한 함수 나열\n",
    "\n",
    "def printstep(arr, val):\n",
    "    print(f'  Step {val} = {arr}')\n",
    "\n",
    "def selection_sort(A):\n",
    "    n = len(A)\n",
    "    for i in range(n-1):\n",
    "        least = i;\n",
    "        for j in range(i+1, n):\n",
    "            if (A[j] < A[least]):\n",
    "                least = j\n",
    "        A[i], A[least] = A[least], A[i]\n",
    "    \n",
    "        printstep(A, i+1);\n",
    "\n",
    "\n",
    "def insertion_sort(A):\n",
    "    n = len(A)\n",
    "    for i in range(1, n):\n",
    "        key = A[i]\n",
    "        j = i-1\n",
    "        while j >= 0 and A[j] > key:\n",
    "            A[j+1] = A[j]\n",
    "            j -= 1\n",
    "        A[j+1] = key\n",
    "        printstep(A, i)\n",
    "\n",
    "def bubble_sort(A):\n",
    "    n = len(A)\n",
    "    bChanged = False\n",
    "    for j in range(i):\n",
    "        if (A[j] > A[j+1]):\n",
    "            A[j+1] ,A[j] = A[j+1], A[j]\n",
    "            bChanged = True\n",
    "        \n",
    "        if not bChanged:\n",
    "            break\n",
    "        printstep(A, n - i)\n",
    "\n",
    "data = [8, 3, 4, 9 ,7]\n",
    "insertion_sort(data)"
   ]
  },
  {
   "cell_type": "markdown",
   "metadata": {},
   "source": [
    "### 맵의 응용: 나의 단어장\n"
   ]
  },
  {
   "cell_type": "markdown",
   "metadata": {},
   "source": [
    "#### 리스트를 이용한 순차 탐색 맵\n",
    "- "
   ]
  },
  {
   "cell_type": "code",
   "execution_count": 8,
   "metadata": {},
   "outputs": [
    {
     "name": "stdout",
     "output_type": "stream",
     "text": [
      "나의 단어장: \n",
      "   data:자료\n",
      "   structure:구조\n",
      "   sequential search:선형 탐색\n",
      "   game:게임\n",
      "   binary search:이진 탐색\n",
      "탐색: game -->  game:게임\n",
      "탐색: over -->  None\n",
      "탐색: data -->  data:자료\n",
      "나의 단어장: \n",
      "   data:자료\n",
      "   structure:구조\n",
      "   sequential search:선형 탐색\n",
      "   binary search:이진 탐색\n"
     ]
    }
   ],
   "source": [
    "# 순차 탐색 알고리즘을 활용한 단어장 만들기\n",
    "\n",
    "def sequential_search (A,key, low, high):\n",
    "    length = len(A)\n",
    "    for i in range(0, length):\n",
    "        if A[i].key == key:\n",
    "            return i\n",
    "    return None\n",
    "\n",
    "# 단어장 생성자 생성\n",
    "class Entry:\n",
    "    def __init__(self, key, value):\n",
    "        self.key = key\n",
    "        self.value = value\n",
    "\n",
    "    def __str__(self):\n",
    "        return str(\"%s:%s\"%(self.key, self.value))\n",
    "\n",
    "# 단어장 리스트 생성\n",
    "class SequentialMap:\t\t\t\t\t\t\t\n",
    "    def __init__(self):\n",
    "        self.table = []\t\t\t\t\t    \t\n",
    "# 단어장에 저장한 개수 출력\n",
    "    def size(self):\n",
    "        return len(self.table)\n",
    "# 단어장에 저장된 전체 단어 출력\n",
    "    def display(self, msg):\t\t\t\t    \t\n",
    "        print(msg)\n",
    "        for entry in self.table:\t\t\t\t\n",
    "            print(\"  \", entry)\t\t\t\t\t\n",
    "# 단어장 단어를 리스트의 맨 뒤에 추가\n",
    "    def insert(self, key, value):\t\t\t\t\n",
    "        self.table.append(Entry(key, value))\n",
    "# 단어장 단어 검색, 순차 탐색 연산을 사용함\n",
    "    def search(self, key):\n",
    "        pos = sequential_search(self.table, key, 0, self.size()-1)\n",
    "        if pos is not None:\n",
    "            return self.table[pos]\n",
    "        else:\n",
    "            return None\n",
    "# 단어장 단어 삭제, pop 연산을 활용한다.\n",
    "    def delete(self, key) :\t\t\t\t\t\n",
    "        for i in range(self.size()):\n",
    "            if self.table[i].key == key:\t\n",
    "                self.table.pop(i)\t\t\t\n",
    "                return\n",
    "\n",
    "# Test drive\n",
    "map = SequentialMap()\t\t\t\t\t\t\n",
    "map.insert('data', '자료')\t\t\t\t\t\n",
    "map.insert('structure', '구조')\n",
    "map.insert('sequential search', '선형 탐색')\n",
    "map.insert('game', '게임')\n",
    "map.insert('binary search', '이진 탐색')\t\n",
    "map.display(\"나의 단어장: \")\t\t\t\n",
    "\n",
    "print(\"탐색: game --> \", map.search('game'))\t\n",
    "print(\"탐색: over --> \", map.search('over'))\n",
    "print(\"탐색: data --> \", map.search('data'))\n",
    "\n",
    "map.delete('game')\t\t\t\t\t\t\n",
    "map.display(\"나의 단어장: \")\n"
   ]
  },
  {
   "cell_type": "code",
   "execution_count": 11,
   "metadata": {},
   "outputs": [
    {
     "name": "stdout",
     "output_type": "stream",
     "text": [
      "나의 단어장:\n",
      "{'data': '자료', 'structure': '구조', 'sequential search': '선형 탐색', 'game': '게임', 'binary search': '이진 탐색'}\n",
      "탐색:game -->  게임\n",
      "탐색:data -->  자료\n",
      "나의 단어장:\n",
      "{'data': '자료', 'structure': '구조', 'sequential search': '선형 탐색', 'binary search': '이진 탐색'}\n"
     ]
    }
   ],
   "source": [
    "# 체이닝을 이용한 해시 맵\n",
    "class Node:\n",
    "    def __init__(self, data, link=None):\n",
    "        self.data = data\n",
    "        self.link = link\n",
    "\n",
    "class HashChainMap:\t\t\t\t\t\t\n",
    "    def __init__(self, M):\n",
    "        self.table = [None]*M\t\t\t\n",
    "        self.M = M\n",
    "\n",
    "# ASCII 값의 합을 활용하여 Modulo 연산을 사용한다.\n",
    "    def hashFn(self, key) :\t\t\t\t\n",
    "        sum = 0\n",
    "        for c in key :\t\t\t\t\t\n",
    "            sum = sum +  ord(c)\t\t\t\n",
    "        return sum % self.M\n",
    "\n",
    "# 삽입 연산\n",
    "    def insert(self, key, value): # key, value 입력\t\n",
    "        idx = self.hashFn(key)\t  # 해시 주소 계산\n",
    "        self.table[idx] = Node(Entry(key,value), self.table[idx]) # 전단에 삽입\n",
    "        \"\"\" 전단 삽입이 이루어지는 해당 코드는 이렇게 나눌 수 있다.\n",
    "            `entry = Entry(key, value)` → 엔트리의 생성\n",
    "            `node = Node(entry)` → 엔트리를 활용하여 노드를 생성\n",
    "            `node.link = self.table[idx]` → 노드의 링크필드 처리\n",
    "            `self.table[idx] = node` → 테이블의 idx항목이 node로 시작 \"\"\"\n",
    "\n",
    "    \"\"\" 탐색 연산\n",
    "        - 해시 주소를 계산함\n",
    "        - 그 주소에서 key를 가진 노드 검사\n",
    "        - 각 주소에 일정한 개수 (k) 이하로 노드가 연결됐다면, O(k)\n",
    "        - 따라서 시간복잡도는 O(1)\"\"\"\n",
    "    def search(self, key) :\n",
    "        idx = self.hashFn(key)\n",
    "        node = self.table[idx]\n",
    "        while node is not None:\n",
    "            if node.data.key == key :\n",
    "                return node.data\n",
    "            node = node.link\n",
    "        return None\n",
    "\n",
    "# 삭제 연산: 시간복잡도는 O(1)\n",
    "    def delete(self, key) :\n",
    "        idx = self.hashFn(key)\n",
    "        node = self.table[idx]\n",
    "        before = None\n",
    "        while node is not None:         \t\t\n",
    "            if node.data.key == key :   \t\t\n",
    "                if before == None :     \t\t\n",
    "                    self.table[idx] = node.link\n",
    "                else :                  \t\t\n",
    "                    before.link = node.link\n",
    "                return\n",
    "            before = node\t\t\t\t\t\t\n",
    "            node = node.link\t\t\t\t\t\n",
    "# 출력 연산\n",
    "    def display(self, msg):\n",
    "        print(msg)\n",
    "        for idx in range(len(self.table)) :\n",
    "            node = self.table[idx]\n",
    "            if node is not None :\n",
    "                print(\"[%2d] -> \"%idx, end='')\n",
    "                while node is not None:\n",
    "                    print(node.data, end=' -> ')\n",
    "                    node = node.link\n",
    "                print()\n",
    "\n",
    "# Test Drive\n",
    "d = {}\t\t\t\t\t\t\t\t\t\n",
    "d['data'] =  '자료'\t\t\t\t\t\t\n",
    "d['structure'] = '구조'\n",
    "d['sequential search'] = '선형 탐색'\n",
    "d['game'] = '게임'\n",
    "d['binary search'] = '이진 탐색'\n",
    "print(\"나의 단어장:\")\n",
    "print(d)\t\t\t\t\t\t\t\t\n",
    "\n",
    "if d.get('game') : print(\"탐색:game --> \", d['game'])\n",
    "if d.get('over') : print(\"탐색:over --> \", d['over'])\n",
    "if d.get('data') : print(\"탐색:data --> \", d['data'])\n",
    "\n",
    "d.pop('game')\t\t\t\t\t\t\n",
    "print(\"나의 단어장:\")\n",
    "print(d)"
   ]
  },
  {
   "cell_type": "code",
   "execution_count": null,
   "metadata": {},
   "outputs": [],
   "source": []
  }
 ],
 "metadata": {
  "kernelspec": {
   "display_name": "Python 3.10.8 64-bit",
   "language": "python",
   "name": "python3"
  },
  "language_info": {
   "codemirror_mode": {
    "name": "ipython",
    "version": 3
   },
   "file_extension": ".py",
   "mimetype": "text/x-python",
   "name": "python",
   "nbconvert_exporter": "python",
   "pygments_lexer": "ipython3",
   "version": "3.10.8"
  },
  "orig_nbformat": 4,
  "vscode": {
   "interpreter": {
    "hash": "a78a970a3f0b7fe32d65d5d135e4e0d9e83cf5adea0a93e632365ac98669003f"
   }
  }
 },
 "nbformat": 4,
 "nbformat_minor": 2
}
