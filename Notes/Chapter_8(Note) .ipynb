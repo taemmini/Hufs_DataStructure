{
 "cells": [
  {
   "cell_type": "markdown",
   "metadata": {},
   "source": [
    "# 트리\n",
    "- 계층적인 자료의 표현에 적합한 자료구조\n",
    "- 응용분야\n",
    "    - 폴더 구조의 표현\n",
    "    - 탐색 트리\n",
    "    - 힙 트리(우선순위 큐 결합)\n",
    "    - 결정 트리(인공지능의 의사 결정 구조)\n",
    "- 용어 \n",
    "    - tree T\n",
    "        - 노드들의 집합(a set of nodes)\n",
    "        - 노드는 부모, 자식 관계(parent-child relationship)\n",
    "    - 루트 노드(root)\n",
    "        - T가 noneempty일 때, 부모가 없는 노드\n",
    "        - 계층의 가장 높은 곳에 있는 노드\n",
    "    - 간선 또는 에지: 노드와 노드를 연결한 선\n",
    "    - 부모 노드(parent)\n",
    "        - 자신의 레벨(level)보다 이전에 있는 노드\n",
    "        - 즉 자신의 (level - 1)인 노드\n",
    "    - 자식 노드(child)\n",
    "        - 어떤 노드가 unuque parent node를 가질 때, 부모 w를 가진 도느들은 w의 자식(child)이다.\n",
    "    - 형제 노드\n",
    "        - 동일한 부모 노드를 가진 노드\n",
    "        - 복수의 노드가 같은 부모의 children일 때\n",
    "    - 조상(ancestor) 노드\n",
    "        - 어떤 노드의 root까지 경로에 있는 노드들\n",
    "    - 자손(decendant) 노드\n",
    "        - 어떤 노드를 출발점으로 하위 레벨에 연결된 모든 노드들\n",
    "    - 단말(terminal, leaf, enternal) 노드\n",
    "        - 자식 노드가 업는 노드\n",
    "    - 비단말 노드(nonterminal/internal)\n",
    "        - children이 있는 노드\n",
    "    - 간선 또는 에지(edge) / 링크(link)\n",
    "        - 부모 노드와 자식 노드를 연결한 선 or vice versa\n",
    "    - 노드 차수(node degree)\n",
    "        - 어떤 노드가 가지고 있는 자식의 수\n",
    "    - 트리 차수(Tree degree)\n",
    "        - tree T의 노드 차수 중에서 가장 큰 차수\n",
    "    - 레벨(level)\n",
    "        - root부터 시작하여 한 세대씩 내려가면서 1씩 증가\n",
    "        - 교재에서는 1부터 시작(0부터 시작하기도 함)\n",
    "    - 깊이(depth)\n",
    "        - 자신부터 root까지의 edge 수. Unique path\n",
    "        - root의 depth은 0\n",
    "    - 높이(height)\n",
    "        - 자신부터 가장 멀리 있는 leaf node까지의 경로의 edge 수\n",
    "        - leaf node의 height은 0\n",
    "    - 경로(path)\n",
    "        - 두 노드 사이를 연결하는 edge sequence\n",
    "        - 경로 길이: edge의 수\n",
    "    - 트리 높이(height)\n",
    "        - tree T의 레벨 중에서 가장 큰 값(0부터 시작할 때). 즉, root의 높이(height)\n",
    "        - 교재에서는 트리가 가지고 있는 최대 레벨로 계산(레벨은 1부터 시작)\n",
    "    - 서브 트리(subtree)\n",
    "        - 어떤 노드와 그 노드의 자손 노드들로만 구성된 트리\n",
    "    - 포레스트(forest)\n",
    "        - 트리들의 서로소 집합(disjoint set)\n",
    "- 기본 성질\n",
    "    - 트리는 재귀적이다.\n",
    "        - 하나의 트리는 여러 개의 subtree로 구성되어있기 떄문이다.\n",
    "    - 노드가 n개인 트리는 항상 n-1개의 edge를 가진다.\n",
    "    - 트리에서, 루트에서 어떤 노드로 가는 경로는 유일하다.\n",
    "        - 또한, 임의의 두 노드 간의 경로도 유일하다. (단, 같은 노드를 두 번 이상 방문하지 않을 때)"
   ]
  },
  {
   "cell_type": "markdown",
   "metadata": {},
   "source": [
    "## 이진 트리\n",
    "- 모든 노드가 2개의 서브 트리를 갖는 트리\n",
    "    - 서브트리는 공집합일 수 있다\n",
    "    - 모든 노드의 차수는 2 이하이다.\n",
    "    - 왼쪽 자식이 오른쪽 자식보다 order가 높다\n",
    "    - 이진 트리는 순환적으로 정의된다.\n",
    "    - 서브트리간의 순서도 존재한다 (왼쪽, 오른쪽 순)\n",
    "        - 노드의 번호는 위에서 아래, 왼쪽에서 오른쪽 순서로 번호를 할당한다.\n",
    "### 이진 트리의 분류\n",
    "- 포화 이진 트리(full binary tree)\n",
    "    - 트리의 각 레벨에 노드가 꽉 차있는 이진 트리\n",
    "    - 노드의 개수를 n, height가 h일 때, n=2^h-1이다.\n",
    "- 완전 이진 트리(complete binary tree)\n",
    "    - 노드의 개수를 n, height가 h일 때\n",
    "        - 2^h-1 < n < 2^h-1\n",
    "    - 높이가 h일때, 레벨1부터 h-1까지는 노드가 모두 채워짐\n",
    "    - 마지막 레벨 h에서는 노드가 왼쪽부터 순서대로 채워짐\n",
    "    - 예: heap 구조"
   ]
  },
  {
   "cell_type": "markdown",
   "metadata": {},
   "source": [
    "### 이진 트리의 연산\n",
    "- 순회\n",
    "    - 트리에 속하는 모든 노드를 한 번씩 방문하는 체계적인 방법\n",
    "    - 선형 자료구조는 순회가 단순함\n",
    "    - 비선형 구조인 트리는 다양한 방법이 있음\n",
    "    - 예) treeT의 모든 노드의 key를 출력하기"
   ]
  },
  {
   "cell_type": "markdown",
   "metadata": {},
   "source": [
    "#### 순회 연산\n",
    "- 규칙은 root, left subtree, right subtree를 방문하는 순서에 따라\n",
    "    - L: 왼쪽 서브트리, R: 오른쪽 서브트리, V: 루트 노드\n",
    "    - 전위 순회(preorder traversal): VLR\n",
    "    - 중위 순회(inorder traversal): LVR\n",
    "    - 후위 순회(postorder traversal): LRV\n",
    "- 각 서브트리의 노드 방문: 동일한 순회\n",
    "- 전체 트리나 서브트리나 구조는 동일\n",
    "    - 순환(재귀: recursion)\n",
    "- 응용 예시\n",
    "    - 노드의 레벨 계산\n",
    "    - 구조화된 문서 출력"
   ]
  },
  {
   "cell_type": "code",
   "execution_count": 3,
   "metadata": {},
   "outputs": [],
   "source": [
    "class TNode:\t\t\t\t\t\t\t\t\n",
    "    def __init__ (self, data, left, right):\t\n",
    "        self.data = data \t\t\t\t\t\n",
    "        self.left = left\t\t\t\t\t\n",
    "        self.right = right\n",
    "\n",
    "# VLR 예시\n",
    "def preorder(n): # 전위 순회 함수\n",
    "    if n is not None :\n",
    "        print(n.data, end=' ') #먼저 루트노드 처리(화면 출력)\n",
    "        if n.left:\n",
    "            preorder(n.left) #왼쪽 서브트리 처리\n",
    "        if n.rignt:\n",
    "            preorder(n.right) #오른쪽 서브트리 처리\n",
    "\n",
    "# LVR 예시\n",
    "def inorder(n): # \t중위 순회 함수\n",
    "    if n is not None:\n",
    "        if n.left:\n",
    "            inorder(n.left)\t#왼쪽 서브트리 처리\n",
    "        print(n.data, end=' ')\t#루트노드 처리(화면 출력)\n",
    "        if n.right:\n",
    "            inorder(n.right) #오른쪽 서브트리 처리\t\n",
    "\n",
    "# LRV 예시\n",
    "def postorder(n) :\n",
    "    if n is not None :\n",
    "        if n.left: #왼쪽 서브트리 처리\n",
    "            postorder(n.left)\n",
    "        if n.right: #오른쪽 서브트리 처리\t\n",
    "            postorder(n.right)\n",
    "        print(n.data, end=' ') #루트노드 처리(화면 출력)"
   ]
  },
  {
   "cell_type": "markdown",
   "metadata": {},
   "source": [
    "#### 레벨 순회 (BFS)\n",
    "- 노드를 세벨 순으로 검사하는 순회방법\n",
    "    - 큐를 사용해 구현\n",
    "    1. root를 큐에 삽입\n",
    "    2. 큐에서 노드 한 개 삭제\n",
    "        - 삭제한 노드로 트리 방문\n",
    "        - 방문한 노드의 자식을 큐에 삽입(왼쪽, 오른쪽 자식 순으로)\n",
    "    3. 큐가 empty가 될 때까지 2를 반복(Recursion)"
   ]
  },
  {
   "cell_type": "code",
   "execution_count": 9,
   "metadata": {},
   "outputs": [],
   "source": [
    "MAX_QSIZE = 100\n",
    "class CircularQueue:\n",
    "    def __init__(self):\t\t\n",
    "        self.front = 0\t\t\t\n",
    "        self.rear = 0\t\t\t\n",
    "        self.items = [None] * MAX_QSIZE\t\n",
    "\n",
    "    def isEmpty(self):\n",
    "        return self.front == self.rear\n",
    "    def isFull(self):\n",
    "        return self.front == (self.rear+1)%MAX_QSIZE\n",
    "    def clear(self):\n",
    "        self.front = self.rear\n",
    "\n",
    "    def enqueue(self, item):\n",
    "        if not self.isFull():\t\t\t            \n",
    "            self.rear = (self.rear+1)% MAX_QSIZE\t\n",
    "            self.items[self.rear] = item\t\t    \n",
    "\n",
    "    def dequeue(self):\n",
    "        if not self.isEmpty():\t\t\t            \n",
    "            self.front = (self.front+1)% MAX_QSIZE\t\n",
    "            return self.items[self.front]\t        \n",
    "\n",
    "    def peek(self):\n",
    "        if not self.isEmpty():\n",
    "            return self.items[(self.front + 1) % MAX_QSIZE]\n",
    "\n",
    "    def size(self):\n",
    "       return (self.rear - self.front + MAX_QSIZE) % MAX_QSIZE\n",
    "\n",
    "    def display(self):\n",
    "        out = []\n",
    "        if self.front < self.rear :\n",
    "            out = self.items[self.front+1:self.rear+1]\n",
    "        else:\n",
    "            out = self.items[self.front+1:MAX_QSIZE] \\\n",
    "                + self.items[0:self.rear+1]\t\t\n",
    "        print(\"[f=%s,r=%d] ==> \"%(self.front, self.rear), out)\n",
    "\n",
    "\n",
    "# level order 예시\n",
    "def levelorder(root):\n",
    "    queue = CircularQueue()\t\t\t\n",
    "    queue.enqueue(root)\t\t\t\t\n",
    "    while not queue.isEmpty():\t\t\n",
    "        n = queue.dequeue()\t\t\t\n",
    "        if n is not None:\n",
    "            print(n.data, end=' ')\t\n",
    "            queue.enqueue(n.left)\t\n",
    "            queue.enqueue(n.right)"
   ]
  },
  {
   "cell_type": "markdown",
   "metadata": {},
   "source": [
    "#### 노드 개수\n",
    "- 후위 순회 방식 Postorder\n",
    "- 왼쪽 서브트리 노드 수+오른쪽 서브트리 노드 수+ 루트 노드 수"
   ]
  },
  {
   "cell_type": "code",
   "execution_count": 10,
   "metadata": {},
   "outputs": [],
   "source": [
    "def count_node(n): #순환을 이용해 트리의 노드 수를 계싼하는 함수\n",
    "    if n is None:  # n이 None이면 공백트리이므로 0을 반환\n",
    "        return 0\n",
    "    else: \t\t    #좌우 서브트리의 노드수의 합 + 1을 반환 (순환 이용)\t\n",
    "        return 1 + count_node(n.left) + count_node(n.right)\n"
   ]
  },
  {
   "cell_type": "markdown",
   "metadata": {},
   "source": [
    "#### 단말 노드의 수\n",
    "- leaf node: 왼쪽과 오른쪽 링크가 None인 노드"
   ]
  },
  {
   "cell_type": "code",
   "execution_count": 11,
   "metadata": {},
   "outputs": [],
   "source": [
    "def count_leaf(n):\n",
    "    if n is None:\t# n이 None이면 공백트리이므로 0을 반환\n",
    "        return 0\n",
    "    elif n.left is None and n.right is None : # 단말 노드이므로 1을 반환\n",
    "        return 1\n",
    "    else: \t\t# 비단말 노드이므로 좌으 서브트리의 결과 합을 반환\n",
    "        return count_leaf(n.left) + count_leaf(n.right)"
   ]
  },
  {
   "cell_type": "markdown",
   "metadata": {},
   "source": [
    "#### 트리의 높이\n",
    "- 후위 순회방식\n",
    "- 왼쪽 서브트리의 높이 / 오른쪽 서브트리의 높이\n",
    "- leftSub / rightSub 중 큰 값 +1"
   ]
  },
  {
   "cell_type": "code",
   "execution_count": 12,
   "metadata": {},
   "outputs": [],
   "source": [
    "def calc_height(n):\n",
    "    if n is None: \t\t# n이 None이면 공백트리이므로 0을 반환\t\t\t\n",
    "        return 0\n",
    "    hLeft = calc_height(n.left)\t\t# 왼쪽 트리의 높이는 hleft\n",
    "    hRight = calc_height(n.right)\t# 오른쪽 트리 높이는 hright\n",
    "    if (hLeft > hRight): \t\t\t# 더 높은 트리의 높이에 1을 더해 반환\n",
    "        return hLeft + 1\n",
    "    else: \n",
    "        return hRight + 1\n",
    "\n",
    "# 이렇게도 쓸 수 있다.\n",
    "def calc_height_2(n):\n",
    "    if n is None:\n",
    "        return 0\n",
    "    return max(calc_height(n.left), calc_height(n.right) + 1)"
   ]
  },
  {
   "cell_type": "code",
   "execution_count": 13,
   "metadata": {},
   "outputs": [
    {
     "name": "stdout",
     "output_type": "stream",
     "text": [
      "\n",
      "   In-Order : D B E A F C \n",
      "  Pre-Order : A B D "
     ]
    },
    {
     "ename": "AttributeError",
     "evalue": "'TNode' object has no attribute 'rignt'",
     "output_type": "error",
     "traceback": [
      "\u001b[1;31m---------------------------------------------------------------------------\u001b[0m",
      "\u001b[1;31mAttributeError\u001b[0m                            Traceback (most recent call last)",
      "Cell \u001b[1;32mIn [13], line 12\u001b[0m\n\u001b[0;32m     10\u001b[0m inorder(root)\n\u001b[0;32m     11\u001b[0m \u001b[39mprint\u001b[39m(\u001b[39m'\u001b[39m\u001b[39m\\n\u001b[39;00m\u001b[39m  Pre-Order : \u001b[39m\u001b[39m'\u001b[39m, end\u001b[39m=\u001b[39m\u001b[39m'\u001b[39m\u001b[39m'\u001b[39m)\n\u001b[1;32m---> 12\u001b[0m preorder(root)\n\u001b[0;32m     13\u001b[0m \u001b[39mprint\u001b[39m(\u001b[39m'\u001b[39m\u001b[39m\\n\u001b[39;00m\u001b[39m Post-Order : \u001b[39m\u001b[39m'\u001b[39m, end\u001b[39m=\u001b[39m\u001b[39m'\u001b[39m\u001b[39m'\u001b[39m)\n\u001b[0;32m     14\u001b[0m postorder(root)\n",
      "Cell \u001b[1;32mIn [3], line 12\u001b[0m, in \u001b[0;36mpreorder\u001b[1;34m(n)\u001b[0m\n\u001b[0;32m     10\u001b[0m \u001b[39mprint\u001b[39m(n\u001b[39m.\u001b[39mdata, end\u001b[39m=\u001b[39m\u001b[39m'\u001b[39m\u001b[39m \u001b[39m\u001b[39m'\u001b[39m) \u001b[39m#먼저 루트노드 처리(화면 출력)\u001b[39;00m\n\u001b[0;32m     11\u001b[0m \u001b[39mif\u001b[39;00m n\u001b[39m.\u001b[39mleft:\n\u001b[1;32m---> 12\u001b[0m     preorder(n\u001b[39m.\u001b[39;49mleft) \u001b[39m#왼쪽 서브트리 처리\u001b[39;00m\n\u001b[0;32m     13\u001b[0m \u001b[39mif\u001b[39;00m n\u001b[39m.\u001b[39mrignt:\n\u001b[0;32m     14\u001b[0m     preorder(n\u001b[39m.\u001b[39mright)\n",
      "Cell \u001b[1;32mIn [3], line 12\u001b[0m, in \u001b[0;36mpreorder\u001b[1;34m(n)\u001b[0m\n\u001b[0;32m     10\u001b[0m \u001b[39mprint\u001b[39m(n\u001b[39m.\u001b[39mdata, end\u001b[39m=\u001b[39m\u001b[39m'\u001b[39m\u001b[39m \u001b[39m\u001b[39m'\u001b[39m) \u001b[39m#먼저 루트노드 처리(화면 출력)\u001b[39;00m\n\u001b[0;32m     11\u001b[0m \u001b[39mif\u001b[39;00m n\u001b[39m.\u001b[39mleft:\n\u001b[1;32m---> 12\u001b[0m     preorder(n\u001b[39m.\u001b[39;49mleft) \u001b[39m#왼쪽 서브트리 처리\u001b[39;00m\n\u001b[0;32m     13\u001b[0m \u001b[39mif\u001b[39;00m n\u001b[39m.\u001b[39mrignt:\n\u001b[0;32m     14\u001b[0m     preorder(n\u001b[39m.\u001b[39mright)\n",
      "Cell \u001b[1;32mIn [3], line 13\u001b[0m, in \u001b[0;36mpreorder\u001b[1;34m(n)\u001b[0m\n\u001b[0;32m     11\u001b[0m \u001b[39mif\u001b[39;00m n\u001b[39m.\u001b[39mleft:\n\u001b[0;32m     12\u001b[0m     preorder(n\u001b[39m.\u001b[39mleft) \u001b[39m#왼쪽 서브트리 처리\u001b[39;00m\n\u001b[1;32m---> 13\u001b[0m \u001b[39mif\u001b[39;00m n\u001b[39m.\u001b[39;49mrignt:\n\u001b[0;32m     14\u001b[0m     preorder(n\u001b[39m.\u001b[39mright)\n",
      "\u001b[1;31mAttributeError\u001b[0m: 'TNode' object has no attribute 'rignt'"
     ]
    }
   ],
   "source": [
    "# Test Drive\n",
    "d = TNode('D', None, None)\n",
    "e = TNode('E', None, None)\n",
    "b = TNode('B', d, e)\n",
    "f = TNode('F', None, None)\n",
    "c = TNode('C', f, None)\n",
    "root = TNode('A', b, c)\n",
    "\n",
    "print('\\n   In-Order : ', end='')\n",
    "inorder(root)\n",
    "print('\\n  Pre-Order : ', end='')\n",
    "preorder(root)\n",
    "print('\\n Post-Order : ', end='')\n",
    "postorder(root)\n",
    "print('\\nLevel-Order : ', end='')\n",
    "levelorder(root)\n",
    "print()\n",
    "\n",
    "print(\" 노드의 개수 = %d개\" % count_node(root))\n",
    "print(\" 단말의 개수 = %d개\" % count_leaf(root))\n",
    "print(\" 트리의 높이 = %d\" % calc_height(root))"
   ]
  },
  {
   "cell_type": "code",
   "execution_count": null,
   "metadata": {},
   "outputs": [],
   "source": []
  }
 ],
 "metadata": {
  "kernelspec": {
   "display_name": "Python 3.10.8 64-bit",
   "language": "python",
   "name": "python3"
  },
  "language_info": {
   "codemirror_mode": {
    "name": "ipython",
    "version": 3
   },
   "file_extension": ".py",
   "mimetype": "text/x-python",
   "name": "python",
   "nbconvert_exporter": "python",
   "pygments_lexer": "ipython3",
   "version": "3.10.8"
  },
  "orig_nbformat": 4,
  "vscode": {
   "interpreter": {
    "hash": "a78a970a3f0b7fe32d65d5d135e4e0d9e83cf5adea0a93e632365ac98669003f"
   }
  }
 },
 "nbformat": 4,
 "nbformat_minor": 2
}
