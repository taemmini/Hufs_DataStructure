{
 "cells": [
  {
   "cell_type": "markdown",
   "metadata": {},
   "source": [
    "# 연습문제"
   ]
  },
  {
   "cell_type": "markdown",
   "metadata": {},
   "source": [
    "1. 리스트와 집"
   ]
  },
  {
   "cell_type": "markdown",
   "metadata": {},
   "source": [
    "# 실습문제"
   ]
  },
  {
   "cell_type": "markdown",
   "metadata": {},
   "source": [
    "### 1번: 배열 구조로 구현한 리스트에서 연산 구현하기"
   ]
  },
  {
   "cell_type": "code",
   "execution_count": 10,
   "metadata": {},
   "outputs": [
    {
     "name": "stdout",
     "output_type": "stream",
     "text": [
      "파이썬 리스트로 구현한 리스트 테스트 0 []\n",
      "파이썬 리스트로 구현한 List(삽입x5):  5 [10, 20, 30, 40, 50]\n",
      "파이썬 리스트로 구현한 List(정렬후):  5 [10, 20, 30, 40, 50]\n",
      "파이썬 리스트로 구현한 List(교체x1):  5 [10, 20, 90, 40, 50]\n",
      "파이썬 리스트로 구현한 List(삭제x3):  2 [10, 20]\n",
      "파이썬 리스트로 구현한 List(병합+3):  5 [10, 20, 1, 2, 3]\n",
      "파이썬 리스트로 구현한 List(정리후):  0 []\n"
     ]
    }
   ],
   "source": [
    "items = [] #리스트 항목 저장을 위한 리스트 선언\n",
    "\n",
    "# 삽입 연산 함수 → append 이용하여 구성\n",
    "def insert(pos, elem):\n",
    "    items.append(elem)\n",
    "\n",
    "# 삭제 연산 함수 → pop 연산 활용\n",
    "def delete(pos):\n",
    "    items.pop(-1)\n",
    "\n",
    "# 항목 접근 연산 → 인덱스 연산자, 시간복잡도는 O(1)\n",
    "def getEntry(pos):\n",
    "    return items[pos]\n",
    "\n",
    "# 공백 상태 검사\n",
    "def isEmpty():\n",
    "    if len(items) == 0:\n",
    "        return True\n",
    "    else:\n",
    "        return False\n",
    "\n",
    "# 화면 출력 함수\n",
    "def display(msg='Array list: '):\n",
    "    print(msg, size(), items)\n",
    "\n",
    "# 리스트의 크기 반환\n",
    "def size( ):\n",
    "    return len(items)\n",
    "\n",
    "# 리스트의 초기화 → 전역 변수로 설정해야함\n",
    "def clear( ):\n",
    "    global items\n",
    "    items = []\t\t       \n",
    "\n",
    "# 리스트 내 요소 탐색 후 인덱스 반환\n",
    "def find(item):\n",
    "    return items.index(item)\n",
    "\n",
    "# 리스트 항목 변경\n",
    "def replace(pos, elem):\n",
    "    items[pos] = elem\n",
    "\n",
    "#리스트 정렬\n",
    "def sort():\n",
    "    items.sort()\n",
    "\n",
    "# 리스트 병합\t\t\n",
    "def merge(lst):\n",
    "    items.extend(lst)\t\n",
    "\n",
    "# Test function\n",
    "display('파이썬 리스트로 구현한 리스트 테스트')\n",
    "insert(0, 10);\t\tinsert(0, 20);    insert(1, 30)\n",
    "insert(size(), 40);\tinsert(2, 50)\n",
    "display(\"파이썬 리스트로 구현한 List(삽입x5): \")\n",
    "sort()\n",
    "display(\"파이썬 리스트로 구현한 List(정렬후): \")\n",
    "replace(2, 90)\n",
    "display(\"파이썬 리스트로 구현한 List(교체x1): \")\n",
    "delete(2);\tdelete(size() - 1);\tdelete(0)\n",
    "display(\"파이썬 리스트로 구현한 List(삭제x3): \")\n",
    "lst = [ 1, 2, 3 ]\n",
    "merge(lst)\n",
    "display(\"파이썬 리스트로 구현한 List(병합+3): \")\n",
    "clear()\n",
    "display(\"파이썬 리스트로 구현한 List(정리후): \")"
   ]
  },
  {
   "cell_type": "markdown",
   "metadata": {},
   "source": [
    "### 2. 라인 편집기 프로그램 수정하기"
   ]
  },
  {
   "cell_type": "code",
   "execution_count": 12,
   "metadata": {},
   "outputs": [],
   "source": [
    "class ArrayList:\n",
    "    def __init__(self):\n",
    "        self.items = []\n",
    "    \n",
    "    # 삽입 연산 함수\n",
    "    def insert(self, pos, elem):\n",
    "        self.items.insert(pos, elem)\n",
    "\n",
    "    # 삭제 연산 함수 → pop 연산 활용\n",
    "    def delete(self, pos):\n",
    "        return self.items.pop(pos)\n",
    "\n",
    "    # 리스트의 크기 반환\n",
    "    def size(self): \n",
    "        return len(self.items)\n",
    "    \n",
    "    # 항목 접근 연산 → 인덱스 연산자, 시간복잡도는 O(1)\n",
    "    def getEntry(self, pos):\n",
    "        return self.items[pos]\n",
    "\n",
    "    # 공백 상태 검사\n",
    "    def isEmpty(self):\n",
    "        return self.items.size() == 0\n",
    "\n",
    "    # 화면 출력 함수\n",
    "    def display(self, msg='Array list: '):\n",
    "        print(msg, self.size(), self.items)\n",
    "\n",
    "    # 리스트의 초기화 → 더이상 전역 변수로 활동하지 않음!\n",
    "    def clear(self):\n",
    "        self.items = []\t\t       \n",
    "\n",
    "    # 리트트 내 요소 탐색 후 인덱스 반환\n",
    "    def find(self, item):\n",
    "        return self.items.index(item)\n",
    "\n",
    "    # 리스트 항목 변경\n",
    "    def replace(self, pos, elem):\n",
    "        self.items[pos] = elem\n",
    "\n",
    "    #리스트 정렬\n",
    "    def sort(self):\n",
    "        self.items.sort()\n",
    "\n",
    "    # 리스트 병합\t\t\n",
    "    def merge(self, lst):\n",
    "        self.items.extend(lst)\n",
    "\n",
    "def myLineEditor() :\t\n",
    "    list = ArrayList()\t\n",
    "    while True :\n",
    "        command = input(\"[메뉴선택] i-입력, d-삭제, r-변경, p-출력, l-파일읽기, s-저장, q-종료=> \")\n",
    "        if command == 'i' :\t\t\n",
    "            pos = int( input(\"  입력행 번호: \"))\n",
    "            str = input(\"  입력행 내용: \")\t    \n",
    "            list.insert(pos, str)\t\t\n",
    "        elif command == 'd' :\t\t\t\n",
    "            pos = int( input(\"  삭제행 번호: \"))\n",
    "            list.delete(pos)\t\t\t\n",
    "        elif command == 'r' :\t\t\t\n",
    "            pos = int( input(\"  변경행 번호: \"))\n",
    "            str = input(\"  변경행 내용: \")\t    \n",
    "            list.replace(pos, str)\t\t        \n",
    "        elif command == 'q' : return\t        \n",
    "        elif command == 'p' :\t\t            \n",
    "            print('Line Editor')\n",
    "            for line in range (list.size()) :   \n",
    "                print('[%2d] '%line, end='')    \n",
    "                print(list.getEntry(line))      \n",
    "            print()\t\t\t                    \n",
    "        elif command == 'l' :\t\t\t        \n",
    "            filename = 'test.txt'\n",
    "            infile = open(filename , \"r\")       \n",
    "            lines = infile.readlines()\t        \n",
    "            for line in lines:\t\t            \n",
    "                list.insert(list.size(), line.rstrip('\\n'))\n",
    "            infile.close()\t\t\t\n",
    "        elif command == 's' :\t\t\n",
    "            filename = 'test.txt'\n",
    "            outfile = open(filename , \"w\")\n",
    "            for i in range(list.size()) :\n",
    "                outfile.write(list.getItem(i)+'\\n')\n",
    "            outfile.close()\n",
    "\n",
    "myLineEditor()"
   ]
  },
  {
   "cell_type": "code",
   "execution_count": null,
   "metadata": {},
   "outputs": [],
   "source": []
  }
 ],
 "metadata": {
  "kernelspec": {
   "display_name": "Python 3.10.8 64-bit (microsoft store)",
   "language": "python",
   "name": "python3"
  },
  "language_info": {
   "codemirror_mode": {
    "name": "ipython",
    "version": 3
   },
   "file_extension": ".py",
   "mimetype": "text/x-python",
   "name": "python",
   "nbconvert_exporter": "python",
   "pygments_lexer": "ipython3",
   "version": "3.10.8"
  },
  "orig_nbformat": 4,
  "vscode": {
   "interpreter": {
    "hash": "8e8436fb9adee9a1eded9928184df424619ddbf7e0af503d3df36c76a58a0129"
   }
  }
 },
 "nbformat": 4,
 "nbformat_minor": 2
}
