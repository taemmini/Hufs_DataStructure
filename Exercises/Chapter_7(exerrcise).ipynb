{
 "cells": [
  {
   "cell_type": "markdown",
   "metadata": {},
   "source": [
    "## 7장 연습문제"
   ]
  },
  {
   "cell_type": "code",
   "execution_count": 30,
   "metadata": {},
   "outputs": [],
   "source": [
    "# 정렬에 필요한 함수 나열\n",
    "def printstep(arr, val):\n",
    "    print(f'  Step {val} = {arr}')\n",
    "\n",
    "def selection_sort(A):\n",
    "    n = len(A)\n",
    "    for i in range(n-1):\n",
    "        least = i;\n",
    "        for j in range(i+1, n):\n",
    "            if (A[j] < A[least]):\n",
    "                least = j\n",
    "        A[i], A[least] = A[least], A[i]\n",
    "    \n",
    "        printstep(A, i+1);\n",
    "\n",
    "\n",
    "def insertion_sort(A):\n",
    "    n = len(A)\n",
    "    for i in range(1, n):\n",
    "        key = A[i]\n",
    "        j = i-1\n",
    "        while j >= 0 and A[j] > key:\n",
    "            A[j+1] = A[j]\n",
    "            j -= 1\n",
    "        A[j+1] = key\n",
    "        printstep(A, i)\n",
    "\n",
    "def bubble_sort(A):\n",
    "    n = len(A)\n",
    "    for i in range(n-1, 0, -1):\n",
    "        bChanged = False\n",
    "        for j in range(i):\n",
    "            if (A[j] > A[j+1]):\n",
    "                A[j] ,A[j+1] = A[j+1], A[j]\n",
    "                bChanged = True\n",
    "        if not bChanged:\n",
    "            break\n",
    "        printstep(A, n - i);\n",
    "\n",
    "# 탐색에 필요한 함수 나열\n",
    "def sequential_search(A, key, low, high):\t\n",
    "    for i in range(low, high+1):\t\t\t\n",
    "        if A[i].key == key:  \t\t\t\t\n",
    "            return i \t\t\t\t\t\t\n",
    "    return None\t\t\t\t\t\t\t    \n",
    "\n",
    "\n",
    "def binary_search(A, key, low, high):\n",
    "\tif (low <= high):\t\t\t\t        \n",
    "\t\tmiddle = (low + high) // 2\t        \n",
    "\t\tif key == A[middle].key:\t\t    \n",
    "\t\t\treturn middle\n",
    "\t\telif (key<A[middle].key):\t        \n",
    "\t\t\treturn binary_search(A, key, low, middle - 1)\n",
    "\t\telse :\t\t\t\t\t\t\n",
    "\t\t\treturn binary_search(A, key, middle + 1, high)\n",
    "\treturn None        \t\t\t\t\n",
    "\n",
    "def binary_search_iter(A, key, low, high):\n",
    "\twhile (low <= high) :       \t\t\n",
    "\t\tmiddle = (low + high) // 2\n",
    "\t\tif key == A[middle].key:\t    \n",
    "\t\t\treturn middle\n",
    "\t\telif (key > A[middle].key):\t\n",
    "\t\t\tlow = middle + 1\t\t\n",
    "\t\telse:\n",
    "\t\t\thigh = middle - 1\t\t\n",
    "\treturn None        \t\t\t\t\n"
   ]
  },
  {
   "cell_type": "markdown",
   "metadata": {},
   "source": []
  },
  {
   "cell_type": "markdown",
   "metadata": {},
   "source": [
    "7.1"
   ]
  },
  {
   "cell_type": "code",
   "execution_count": 18,
   "metadata": {},
   "outputs": [
    {
     "name": "stdout",
     "output_type": "stream",
     "text": [
      "Original data: [8, 3, 4, 9, 7]\n",
      "  Step 1 = [3, 8, 4, 9, 7]\n",
      "  Step 2 = [3, 4, 8, 9, 7]\n",
      "  Step 3 = [3, 4, 7, 9, 8]\n",
      "  Step 4 = [3, 4, 7, 8, 9]\n",
      "soreted data: [3, 4, 7, 8, 9]\n"
     ]
    }
   ],
   "source": [
    "data = [8, 3, 4, 9, 7]\n",
    "print(f'Original data: {data}')\n",
    "selection_sort(data)\n",
    "print(f'soreted data: {data}')\n",
    "# Step 3의 리스트는 [3. 4. 7, 8, 9]의 순서이다."
   ]
  },
  {
   "cell_type": "markdown",
   "metadata": {},
   "source": [
    "7.2"
   ]
  },
  {
   "cell_type": "code",
   "execution_count": 19,
   "metadata": {},
   "outputs": [
    {
     "name": "stdout",
     "output_type": "stream",
     "text": [
      "Original data: [8, 3, 4, 9, 7]\n",
      "  Step 1 = [3, 8, 4, 9, 7]\n",
      "  Step 2 = [3, 4, 8, 9, 7]\n",
      "  Step 3 = [3, 4, 8, 9, 7]\n",
      "  Step 4 = [3, 4, 7, 8, 9]\n",
      "soreted data: [3, 4, 7, 8, 9]\n"
     ]
    }
   ],
   "source": [
    "data = [8, 3, 4, 9, 7]\n",
    "print(f'Original data: {data}')\n",
    "insertion_sort(data)\n",
    "print(f'soreted data: {data}')\n",
    "# Step 1의 리스트는 [3, 8. 4, 9, 7]의 순서이다."
   ]
  },
  {
   "cell_type": "markdown",
   "metadata": {},
   "source": [
    "7.3"
   ]
  },
  {
   "cell_type": "code",
   "execution_count": 28,
   "metadata": {},
   "outputs": [
    {
     "name": "stdout",
     "output_type": "stream",
     "text": [
      "Original data: [9, 6, 7, 3, 5]\n",
      "  Step 1 = [6, 7, 3, 5, 9]\n",
      "  Step 2 = [6, 3, 5, 7, 9]\n",
      "  Step 3 = [3, 5, 6, 7, 9]\n",
      "soreted data: [3, 5, 6, 7, 9]\n"
     ]
    }
   ],
   "source": [
    "data = [9, 6, 7, 3, 5]\n",
    "print(f'Original data: {data}')\n",
    "bubble_sort(data)\n",
    "print(f'soreted data: {data}')\n",
    "# Step 1의 리스트는 [3, 8. 4, 9, 7]의 순서이다."
   ]
  },
  {
   "cell_type": "markdown",
   "metadata": {},
   "source": [
    "7.4 입력 자료의 구성과 상관없이 자료 이동 횟수가 경정되는 정렬 알고리즘은 선택 정렬이다."
   ]
  },
  {
   "cell_type": "markdown",
   "metadata": {},
   "source": [
    "7.5 `# 탐색에 필요한 함수 나열 참조`"
   ]
  },
  {
   "cell_type": "markdown",
   "metadata": {},
   "source": [
    "7.6"
   ]
  },
  {
   "cell_type": "code",
   "execution_count": 21,
   "metadata": {},
   "outputs": [
    {
     "name": "stdout",
     "output_type": "stream",
     "text": [
      "Original data: [7, 4, 9, 6, 3, 8, 7, 5]\n",
      "  Step 1 = [3, 4, 9, 6, 7, 8, 7, 5]\n",
      "  Step 2 = [3, 4, 9, 6, 7, 8, 7, 5]\n",
      "  Step 3 = [3, 4, 5, 6, 7, 8, 7, 9]\n",
      "  Step 4 = [3, 4, 5, 6, 7, 8, 7, 9]\n",
      "  Step 5 = [3, 4, 5, 6, 7, 8, 7, 9]\n",
      "  Step 6 = [3, 4, 5, 6, 7, 7, 8, 9]\n",
      "  Step 7 = [3, 4, 5, 6, 7, 7, 8, 9]\n",
      "soreted data: [3, 4, 5, 6, 7, 7, 8, 9]\n"
     ]
    }
   ],
   "source": [
    "# 선택 정렬\n",
    "data = [7, 4, 9, 6, 3, 8, 7, 5]\n",
    "print(f'Original data: {data}')\n",
    "selection_sort(data)\n",
    "print(f'soreted data: {data}')"
   ]
  },
  {
   "cell_type": "code",
   "execution_count": 24,
   "metadata": {},
   "outputs": [
    {
     "name": "stdout",
     "output_type": "stream",
     "text": [
      "Original data: [7, 4, 9, 6, 3, 8, 7, 5]\n",
      "  Step 1 = [4, 7, 9, 6, 3, 8, 7, 5]\n",
      "  Step 2 = [4, 7, 9, 6, 3, 8, 7, 5]\n",
      "  Step 3 = [4, 6, 7, 9, 3, 8, 7, 5]\n",
      "  Step 4 = [3, 4, 6, 7, 9, 8, 7, 5]\n",
      "  Step 5 = [3, 4, 6, 7, 8, 9, 7, 5]\n",
      "  Step 6 = [3, 4, 6, 7, 7, 8, 9, 5]\n",
      "  Step 7 = [3, 4, 5, 6, 7, 7, 8, 9]\n",
      "soreted data: [3, 4, 5, 6, 7, 7, 8, 9]\n"
     ]
    }
   ],
   "source": [
    "# 삽입 정렬\n",
    "data = [7, 4, 9, 6, 3, 8, 7, 5]\n",
    "print(f'Original data: {data}')\n",
    "insertion_sort(data)\n",
    "print(f'soreted data: {data}')"
   ]
  },
  {
   "cell_type": "code",
   "execution_count": 29,
   "metadata": {},
   "outputs": [
    {
     "name": "stdout",
     "output_type": "stream",
     "text": [
      "Original data: [7, 4, 9, 6, 3, 8, 7, 5]\n",
      "  Step 1 = [4, 7, 6, 3, 8, 7, 5, 9]\n",
      "  Step 2 = [4, 6, 3, 7, 7, 5, 8, 9]\n",
      "  Step 3 = [4, 3, 6, 7, 5, 7, 8, 9]\n",
      "  Step 4 = [3, 4, 6, 5, 7, 7, 8, 9]\n",
      "  Step 5 = [3, 4, 5, 6, 7, 7, 8, 9]\n",
      "soreted data: [3, 4, 5, 6, 7, 7, 8, 9]\n"
     ]
    }
   ],
   "source": [
    "# 버블 정렬\n",
    "data = [7, 4, 9, 6, 3, 8, 7, 5]\n",
    "print(f'Original data: {data}')\n",
    "bubble_sort(data)\n",
    "print(f'soreted data: {data}')"
   ]
  },
  {
   "cell_type": "markdown",
   "metadata": {},
   "source": [
    "7.7 선택정렬은 같은 키가 여러개이면서, 그 순서가 임의적일때."
   ]
  },
  {
   "cell_type": "markdown",
   "metadata": {},
   "source": [
    "7.8 삽입정렬이 안정성을 만족하는 이유는, 절댓값이 같은 레코드가 여러 개 있을 때, 이때의 레코드의 상대적인 우선순위가 바뀌지 않는다는 점에서 안정성을 만족한다."
   ]
  },
  {
   "cell_type": "markdown",
   "metadata": {},
   "source": [
    "7.9 삽입 정렬을 위한 최선의 입력이 이루어질 경우, 레코드가 이미 정렬되어 있을 것이다. 따라서 이때 정렬하고자 한다면 내부 루프에서 한번만 빠져나올 것이기에 n-1번의 비교와 2(n-1)번의 이동이 이루어질 것이므로 시간 복잡도는 O(n)이다. 한편, 삽입 정렬을 위한 최악의 입력이 이루어질 경우, 입력 자료가 역으로 정열된 경우이다. 이때, 각 단계에서 앞에 놓인 자료들은 전부 한 칸씩 뒤로 이동해야 하므로, 각 반복마다 i번의 비교가 수행되므로, 이때의 시간 복잡도는 O(n^2)이다."
   ]
  },
  {
   "cell_type": "markdown",
   "metadata": {},
   "source": [
    "7.10 정렬되지 않은 테이블에서도 원하는 레코드를 찾을 수 있는 탐색 방법은 순차 탐색이다."
   ]
  },
  {
   "cell_type": "markdown",
   "metadata": {},
   "source": [
    "7.11 피보나치 수열에 따라 다음에 비교할 대상을 선정하여 검색하는 알고리즘은 재귀, 탐욕 알고리즘이다."
   ]
  },
  {
   "cell_type": "markdown",
   "metadata": {},
   "source": [
    "7.12 순차탐색은 10회, 이진 탐색은 3회, 보간 탐색은 1회이다."
   ]
  }
 ],
 "metadata": {
  "kernelspec": {
   "display_name": "Python 3.10.8 64-bit",
   "language": "python",
   "name": "python3"
  },
  "language_info": {
   "codemirror_mode": {
    "name": "ipython",
    "version": 3
   },
   "file_extension": ".py",
   "mimetype": "text/x-python",
   "name": "python",
   "nbconvert_exporter": "python",
   "pygments_lexer": "ipython3",
   "version": "3.10.8"
  },
  "orig_nbformat": 4,
  "vscode": {
   "interpreter": {
    "hash": "a78a970a3f0b7fe32d65d5d135e4e0d9e83cf5adea0a93e632365ac98669003f"
   }
  }
 },
 "nbformat": 4,
 "nbformat_minor": 2
}
